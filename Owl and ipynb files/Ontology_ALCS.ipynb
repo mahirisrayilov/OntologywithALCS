{
  "nbformat": 4,
  "nbformat_minor": 0,
  "metadata": {
    "colab": {
      "name": "Ontology-ALCS.ipynb",
      "provenance": []
    },
    "kernelspec": {
      "name": "python3",
      "display_name": "Python 3"
    },
    "language_info": {
      "name": "python"
    }
  },
  "cells": [
    {
      "cell_type": "code",
      "execution_count": 1,
      "metadata": {
        "colab": {
          "base_uri": "https://localhost:8080/"
        },
        "id": "V2-8ciuEBYxW",
        "outputId": "1e9f477b-4c15-4ade-9ece-7aadb06ec82a"
      },
      "outputs": [
        {
          "output_type": "stream",
          "name": "stdout",
          "text": [
            "Looking in indexes: https://pypi.org/simple, https://us-python.pkg.dev/colab-wheels/public/simple/\n",
            "Collecting owlready2\n",
            "  Downloading Owlready2-0.38.tar.gz (25.4 MB)\n",
            "\u001b[K     |████████████████████████████████| 25.4 MB 1.5 MB/s \n",
            "\u001b[?25hBuilding wheels for collected packages: owlready2\n",
            "  Building wheel for owlready2 (setup.py) ... \u001b[?25l\u001b[?25hdone\n",
            "  Created wheel for owlready2: filename=Owlready2-0.38-cp37-cp37m-linux_x86_64.whl size=22127087 sha256=100c6d49f9c8e3b17d649cb84d897d6828f99f2df1fba7914d27c0464cc000b2\n",
            "  Stored in directory: /root/.cache/pip/wheels/ee/48/58/3ea20d69efcb97a26048fbfcce9332412077df80d4ae52365b\n",
            "Successfully built owlready2\n",
            "Installing collected packages: owlready2\n",
            "Successfully installed owlready2-0.38\n"
          ]
        }
      ],
      "source": [
        "!pip install owlready2"
      ]
    },
    {
      "cell_type": "code",
      "source": [
        "from owlready2 import *\n",
        "onto_path.append(\"Ontology-ALCS.owl\")\n",
        "onto = get_ontology(\"Ontology-ALCS.owl\")\n",
        "onto.load()\n",
        "\n",
        "with onto:\n",
        "  class Agent(Thing): pass\n",
        "  class Cells(Thing): pass\n",
        "  class Exit(Cells): pass\n",
        "  class Empty(Cells): pass\n",
        "  class Obstacle(Cells): pass\n",
        "  class Walls(Cells): pass\n",
        "  class Directions(Thing): pass\n",
        "  class Points(Thing): pass\n",
        "  class hasX(Cells>>int, DataProperty, FunctionalProperty): pass\n",
        "  class hasY(Cells>>int, DataProperty, FunctionalProperty): pass\n",
        "  class hasCurrentPoint(Agent>>int, FunctionalProperty): pass\n",
        "  class hasCurrentPosition(ObjectProperty):\n",
        "    domain = [Agent]\n",
        "    range = [Cells]\n",
        "  class atIteration(Cells>>int): pass\n",
        "  class East(Directions): pass\n",
        "  class hasDX(Directions>>int): pass\n",
        "  class hasDY(Directions>>int): pass\n",
        "  class MoveTo(ObjectProperty):\n",
        "    domain = [Agent]\n",
        "    range = [Cells]\n",
        "  class hasDirection(ObjectProperty):\n",
        "    domain = [Cells]\n",
        "    range = [Directions]\n",
        "  class isALCSdecision(Agent>>bool): pass\n",
        "  class takeDecision(ObjectProperty):\n",
        "    domain = [Agent]\n",
        "    range = [Directions]\n",
        "  class FirstMovement(ObjectProperty):\n",
        "    domain = [Agent]\n",
        "    range = [Cells]\n",
        "  class SecondMovement(ObjectProperty):\n",
        "    domain = [Agent]\n",
        "    range = [Cells]\n",
        "  class ThirdMovement(ObjectProperty):\n",
        "    domain = [Agent]\n",
        "    range = [Cells]\n",
        "  class StepCount(Agent>>int, DataProperty, FunctionalProperty): pass\n",
        "  class TotalGain(Agent>>int, DataProperty, FunctionalProperty): pass\n",
        "  class Points(Thing):pass\n",
        "  class hasPoint(Points>>int, DataProperty, FunctionalProperty): pass\n",
        "  class Penalty(Points): pass\n",
        "  class Rewards(Points): pass\n",
        "  class South(Directions): pass\n",
        "  class isWon(Agent>>bool): pass"
      ],
      "metadata": {
        "id": "Xc23oj5dDQ3Z"
      },
      "execution_count": 2,
      "outputs": []
    },
    {
      "cell_type": "code",
      "source": [
        "agent = Agent(\"agent\")\n",
        "empty1 = Cells(\"empty(4,4)\")\n",
        "empty2 = Cells(\"empty(5,4)\")\n",
        "empty3 = Cells(\"empty(6,3)\")\n",
        "exit = Cells(\"exit(6,2)\")\n",
        "rewards_point = Rewards(\"rewards_point\")"
      ],
      "metadata": {
        "id": "DLcbacV-DTtC"
      },
      "execution_count": 3,
      "outputs": []
    },
    {
      "cell_type": "code",
      "source": [
        "agent.hasCurrentPosition"
      ],
      "metadata": {
        "colab": {
          "base_uri": "https://localhost:8080/"
        },
        "id": "oRPP6l4ODUAS",
        "outputId": "4fae0db4-28f5-4ac6-9b1b-1e89c47a7cb9"
      },
      "execution_count": 4,
      "outputs": [
        {
          "output_type": "execute_result",
          "data": {
            "text/plain": [
              "[Ontology-ALCS.empty(4,4)]"
            ]
          },
          "metadata": {},
          "execution_count": 4
        }
      ]
    },
    {
      "cell_type": "code",
      "source": [
        "sync_reasoner_pellet(infer_data_property_values=True,infer_property_values=True)"
      ],
      "metadata": {
        "colab": {
          "base_uri": "https://localhost:8080/"
        },
        "id": "_1V9dj9dDVI5",
        "outputId": "c727eac9-c6bf-4bcd-963b-5e33d45ed037"
      },
      "execution_count": 5,
      "outputs": [
        {
          "output_type": "stream",
          "name": "stderr",
          "text": [
            "* Owlready2 * Running Pellet...\n",
            "    java -Xmx2000M -cp /usr/local/lib/python3.7/dist-packages/owlready2/pellet/antlr-runtime-3.2.jar:/usr/local/lib/python3.7/dist-packages/owlready2/pellet/httpclient-4.2.3.jar:/usr/local/lib/python3.7/dist-packages/owlready2/pellet/jena-arq-2.10.0.jar:/usr/local/lib/python3.7/dist-packages/owlready2/pellet/antlr-3.2.jar:/usr/local/lib/python3.7/dist-packages/owlready2/pellet/pellet-2.3.1.jar:/usr/local/lib/python3.7/dist-packages/owlready2/pellet/xercesImpl-2.10.0.jar:/usr/local/lib/python3.7/dist-packages/owlready2/pellet/slf4j-log4j12-1.6.4.jar:/usr/local/lib/python3.7/dist-packages/owlready2/pellet/commons-codec-1.6.jar:/usr/local/lib/python3.7/dist-packages/owlready2/pellet/jena-iri-0.9.5.jar:/usr/local/lib/python3.7/dist-packages/owlready2/pellet/jcl-over-slf4j-1.6.4.jar:/usr/local/lib/python3.7/dist-packages/owlready2/pellet/jgrapht-jdk1.5.jar:/usr/local/lib/python3.7/dist-packages/owlready2/pellet/owlapi-distribution-3.4.3-bin.jar:/usr/local/lib/python3.7/dist-packages/owlready2/pellet/jena-core-2.10.0.jar:/usr/local/lib/python3.7/dist-packages/owlready2/pellet/jena-tdb-0.10.0.jar:/usr/local/lib/python3.7/dist-packages/owlready2/pellet/httpcore-4.2.2.jar:/usr/local/lib/python3.7/dist-packages/owlready2/pellet/xml-apis-1.4.01.jar:/usr/local/lib/python3.7/dist-packages/owlready2/pellet/log4j-1.2.16.jar:/usr/local/lib/python3.7/dist-packages/owlready2/pellet/aterm-java-1.6.jar:/usr/local/lib/python3.7/dist-packages/owlready2/pellet/slf4j-api-1.6.4.jar pellet.Pellet realize --loader Jena --input-format N-Triples --infer-prop-values --infer-data-prop-values --ignore-imports /tmp/tmpajpxghou\n"
          ]
        },
        {
          "output_type": "stream",
          "name": "stdout",
          "text": [
            "* Owlready * Adding relation Ontology-ALCS.agent MoveTo Ontology-ALCS.empty(4,4)\n",
            "* Owlready * Adding relation Ontology-ALCS.agent isALCSdecision false\n"
          ]
        },
        {
          "output_type": "stream",
          "name": "stderr",
          "text": [
            "* Owlready2 * Pellet took 2.4222331047058105 seconds\n",
            "* Owlready * (NB: only changes on entities loaded in Python are shown, other changes are done but not listed)\n"
          ]
        }
      ]
    },
    {
      "cell_type": "code",
      "source": [
        "with onto:\n",
        "  if agent.isALCSdecision == [False]:\n",
        "    rule = Imp()\n",
        "    rule.set_as_rule(\"\"\"Agent(?a) ^ isALCSdecision(?a, false) ^ Cells(?c) ^ hasX(?c, ?x) ^ hasY(?c, ?y) ^ hasCurrentPosition(?a, ?c) ^ atIteration(?c, ?t) ^ East(?d) ^ hasDX(?d, ?dx) ^ hasDY(?d, ?dy) ^ add(?newX, ?x, ?dx) ^ add(?newY, ?y, ?dy) ^ Cells(?c1) ^ hasX(?c1, ?newX) ^ hasY(?c1, ?newY) ^ Empty(?c1) ^ add(?t1, ?t, 1) ^ lessThan(?t1, 2) ^ greaterThanOrEqual(?newX, ?x) -> FirstMovement(?a, ?c1) ^ atIteration(?c1, ?t1) ^ hasDirection(?c1, ?d) ^ takeDecision(?a, ?d)\"\"\")\n",
        "\n",
        "    sync_reasoner_pellet(infer_data_property_values=True,infer_property_values=True)\n"
      ],
      "metadata": {
        "colab": {
          "base_uri": "https://localhost:8080/"
        },
        "id": "w3YAYo95DWX6",
        "outputId": "b1ce460c-0df5-41ce-94c2-329da739ba3a"
      },
      "execution_count": 6,
      "outputs": [
        {
          "output_type": "stream",
          "name": "stderr",
          "text": [
            "* Owlready2 * Running Pellet...\n",
            "    java -Xmx2000M -cp /usr/local/lib/python3.7/dist-packages/owlready2/pellet/antlr-runtime-3.2.jar:/usr/local/lib/python3.7/dist-packages/owlready2/pellet/httpclient-4.2.3.jar:/usr/local/lib/python3.7/dist-packages/owlready2/pellet/jena-arq-2.10.0.jar:/usr/local/lib/python3.7/dist-packages/owlready2/pellet/antlr-3.2.jar:/usr/local/lib/python3.7/dist-packages/owlready2/pellet/pellet-2.3.1.jar:/usr/local/lib/python3.7/dist-packages/owlready2/pellet/xercesImpl-2.10.0.jar:/usr/local/lib/python3.7/dist-packages/owlready2/pellet/slf4j-log4j12-1.6.4.jar:/usr/local/lib/python3.7/dist-packages/owlready2/pellet/commons-codec-1.6.jar:/usr/local/lib/python3.7/dist-packages/owlready2/pellet/jena-iri-0.9.5.jar:/usr/local/lib/python3.7/dist-packages/owlready2/pellet/jcl-over-slf4j-1.6.4.jar:/usr/local/lib/python3.7/dist-packages/owlready2/pellet/jgrapht-jdk1.5.jar:/usr/local/lib/python3.7/dist-packages/owlready2/pellet/owlapi-distribution-3.4.3-bin.jar:/usr/local/lib/python3.7/dist-packages/owlready2/pellet/jena-core-2.10.0.jar:/usr/local/lib/python3.7/dist-packages/owlready2/pellet/jena-tdb-0.10.0.jar:/usr/local/lib/python3.7/dist-packages/owlready2/pellet/httpcore-4.2.2.jar:/usr/local/lib/python3.7/dist-packages/owlready2/pellet/xml-apis-1.4.01.jar:/usr/local/lib/python3.7/dist-packages/owlready2/pellet/log4j-1.2.16.jar:/usr/local/lib/python3.7/dist-packages/owlready2/pellet/aterm-java-1.6.jar:/usr/local/lib/python3.7/dist-packages/owlready2/pellet/slf4j-api-1.6.4.jar pellet.Pellet realize --loader Jena --input-format N-Triples --infer-prop-values --infer-data-prop-values --ignore-imports /tmp/tmp_ewfz3lw\n"
          ]
        },
        {
          "output_type": "stream",
          "name": "stdout",
          "text": [
            "* Owlready * Adding relation Ontology-ALCS.agent FirstMovement Ontology-ALCS.empty(5,4)\n",
            "* Owlready * Adding relation Ontology-ALCS.empty(5,4) atIteration 1\n"
          ]
        },
        {
          "output_type": "stream",
          "name": "stderr",
          "text": [
            "* Owlready2 * Pellet took 1.9103808403015137 seconds\n",
            "* Owlready * (NB: only changes on entities loaded in Python are shown, other changes are done but not listed)\n"
          ]
        }
      ]
    },
    {
      "cell_type": "code",
      "source": [
        "with onto:\n",
        "  if agent.isALCSdecision == [False]:\n",
        "    rule = Imp()\n",
        "    rule.set_as_rule(\"\"\"Agent(?a) ^ isALCSdecision(?a, false) ^ Cells(?c) ^ hasX(?c, ?x) ^ hasY(?c, ?y) ^ FirstMovement(?a, ?c) ^ atIteration(?c, ?t) ^ South-East(?d) ^ hasDX(?d, ?dx) ^ hasDY(?d, ?dy) ^ add(?newX, ?x, ?dx) ^ add(?newY, ?y, ?dy) ^ Cells(?c1) ^ hasX(?c1, ?newX) ^ hasY(?c1, ?newY) ^ Empty(?c1) ^ add(?t1, ?t, 1) ^ lessThan(?t1, 3) ^ greaterThanOrEqual(?newX, ?x) -> SecondMovement(?a, ?c1) ^ atIteration(?c1, ?t1) ^ hasDirection(?c1, ?d)\"\"\")\n",
        "\n",
        "    sync_reasoner_pellet(infer_data_property_values=True,infer_property_values=True)\n"
      ],
      "metadata": {
        "colab": {
          "base_uri": "https://localhost:8080/"
        },
        "id": "qSLgInZuDX3K",
        "outputId": "da663bcb-88de-4040-b616-74ce0674e390"
      },
      "execution_count": 7,
      "outputs": [
        {
          "output_type": "stream",
          "name": "stderr",
          "text": [
            "* Owlready2 * Running Pellet...\n",
            "    java -Xmx2000M -cp /usr/local/lib/python3.7/dist-packages/owlready2/pellet/antlr-runtime-3.2.jar:/usr/local/lib/python3.7/dist-packages/owlready2/pellet/httpclient-4.2.3.jar:/usr/local/lib/python3.7/dist-packages/owlready2/pellet/jena-arq-2.10.0.jar:/usr/local/lib/python3.7/dist-packages/owlready2/pellet/antlr-3.2.jar:/usr/local/lib/python3.7/dist-packages/owlready2/pellet/pellet-2.3.1.jar:/usr/local/lib/python3.7/dist-packages/owlready2/pellet/xercesImpl-2.10.0.jar:/usr/local/lib/python3.7/dist-packages/owlready2/pellet/slf4j-log4j12-1.6.4.jar:/usr/local/lib/python3.7/dist-packages/owlready2/pellet/commons-codec-1.6.jar:/usr/local/lib/python3.7/dist-packages/owlready2/pellet/jena-iri-0.9.5.jar:/usr/local/lib/python3.7/dist-packages/owlready2/pellet/jcl-over-slf4j-1.6.4.jar:/usr/local/lib/python3.7/dist-packages/owlready2/pellet/jgrapht-jdk1.5.jar:/usr/local/lib/python3.7/dist-packages/owlready2/pellet/owlapi-distribution-3.4.3-bin.jar:/usr/local/lib/python3.7/dist-packages/owlready2/pellet/jena-core-2.10.0.jar:/usr/local/lib/python3.7/dist-packages/owlready2/pellet/jena-tdb-0.10.0.jar:/usr/local/lib/python3.7/dist-packages/owlready2/pellet/httpcore-4.2.2.jar:/usr/local/lib/python3.7/dist-packages/owlready2/pellet/xml-apis-1.4.01.jar:/usr/local/lib/python3.7/dist-packages/owlready2/pellet/log4j-1.2.16.jar:/usr/local/lib/python3.7/dist-packages/owlready2/pellet/aterm-java-1.6.jar:/usr/local/lib/python3.7/dist-packages/owlready2/pellet/slf4j-api-1.6.4.jar pellet.Pellet realize --loader Jena --input-format N-Triples --infer-prop-values --infer-data-prop-values --ignore-imports /tmp/tmptxuubxqd\n"
          ]
        },
        {
          "output_type": "stream",
          "name": "stdout",
          "text": [
            "* Owlready * Adding relation Ontology-ALCS.agent SecondMovement Ontology-ALCS.empty(6,3)\n",
            "* Owlready * Adding relation Ontology-ALCS.empty(6,3) atIteration 2\n"
          ]
        },
        {
          "output_type": "stream",
          "name": "stderr",
          "text": [
            "* Owlready2 * Pellet took 1.7199959754943848 seconds\n",
            "* Owlready * (NB: only changes on entities loaded in Python are shown, other changes are done but not listed)\n"
          ]
        }
      ]
    },
    {
      "cell_type": "code",
      "source": [
        "with onto:\n",
        "  if agent.isALCSdecision == [False]:\n",
        "    rule = Imp()\n",
        "    rule.set_as_rule(\"\"\"Agent(?a) ^ isALCSdecision(?a, false) ^ hasCurrentPoint(?a, ?s) ^ Rewards(?r) ^ hasPoint(?r, ?point) ^ add(?point1, ?s, ?point) ^ lessThan(?point1, 1001) ^ Cells(?c) ^ hasX(?c, ?x) ^ hasY(?c, ?y) ^ SecondMovement(?a, ?c) ^ atIteration(?c, ?t) ^ South(?d) ^ hasDX(?d, ?dx) ^ hasDY(?d, ?dy) ^ add(?newX, ?x, ?dx) ^ add(?newY, ?y, ?dy) ^ Cells(?c1) ^ hasX(?c1, ?newX) ^ hasY(?c1, ?newY) ^ Exit(?c1) ^ add(?t1, ?t, 1) ^ lessThan(?t1, 4) -> ThirdMovement(?a, ?c1) ^ atIteration(?c1, ?t1) ^ hasDirection(?c1, ?d) ^ isWon(?a, true) ^ StepCount(?a, ?t1) ^ TotalGain(?a, ?point1)\"\"\")\n",
        "\n",
        "    sync_reasoner_pellet(infer_data_property_values=True,infer_property_values=True)\n"
      ],
      "metadata": {
        "colab": {
          "base_uri": "https://localhost:8080/"
        },
        "id": "o3SsFyIkDZPJ",
        "outputId": "2632e76f-e5f4-4533-ab86-0bb312f24194"
      },
      "execution_count": 8,
      "outputs": [
        {
          "output_type": "stream",
          "name": "stderr",
          "text": [
            "* Owlready2 * Running Pellet...\n",
            "    java -Xmx2000M -cp /usr/local/lib/python3.7/dist-packages/owlready2/pellet/antlr-runtime-3.2.jar:/usr/local/lib/python3.7/dist-packages/owlready2/pellet/httpclient-4.2.3.jar:/usr/local/lib/python3.7/dist-packages/owlready2/pellet/jena-arq-2.10.0.jar:/usr/local/lib/python3.7/dist-packages/owlready2/pellet/antlr-3.2.jar:/usr/local/lib/python3.7/dist-packages/owlready2/pellet/pellet-2.3.1.jar:/usr/local/lib/python3.7/dist-packages/owlready2/pellet/xercesImpl-2.10.0.jar:/usr/local/lib/python3.7/dist-packages/owlready2/pellet/slf4j-log4j12-1.6.4.jar:/usr/local/lib/python3.7/dist-packages/owlready2/pellet/commons-codec-1.6.jar:/usr/local/lib/python3.7/dist-packages/owlready2/pellet/jena-iri-0.9.5.jar:/usr/local/lib/python3.7/dist-packages/owlready2/pellet/jcl-over-slf4j-1.6.4.jar:/usr/local/lib/python3.7/dist-packages/owlready2/pellet/jgrapht-jdk1.5.jar:/usr/local/lib/python3.7/dist-packages/owlready2/pellet/owlapi-distribution-3.4.3-bin.jar:/usr/local/lib/python3.7/dist-packages/owlready2/pellet/jena-core-2.10.0.jar:/usr/local/lib/python3.7/dist-packages/owlready2/pellet/jena-tdb-0.10.0.jar:/usr/local/lib/python3.7/dist-packages/owlready2/pellet/httpcore-4.2.2.jar:/usr/local/lib/python3.7/dist-packages/owlready2/pellet/xml-apis-1.4.01.jar:/usr/local/lib/python3.7/dist-packages/owlready2/pellet/log4j-1.2.16.jar:/usr/local/lib/python3.7/dist-packages/owlready2/pellet/aterm-java-1.6.jar:/usr/local/lib/python3.7/dist-packages/owlready2/pellet/slf4j-api-1.6.4.jar pellet.Pellet realize --loader Jena --input-format N-Triples --infer-prop-values --infer-data-prop-values --ignore-imports /tmp/tmpelmtcgba\n"
          ]
        },
        {
          "output_type": "stream",
          "name": "stdout",
          "text": [
            "* Owlready * Adding relation Ontology-ALCS.agent ThirdMovement Ontology-ALCS.exit(6,2)\n",
            "* Owlready * Adding relation Ontology-ALCS.agent isWon true\n",
            "* Owlready * Adding relation Ontology-ALCS.agent TotalGain 1000\n",
            "* Owlready * Adding relation Ontology-ALCS.agent StepCount 3\n",
            "* Owlready * Adding relation Ontology-ALCS.exit(6,2) atIteration 3\n"
          ]
        },
        {
          "output_type": "stream",
          "name": "stderr",
          "text": [
            "* Owlready2 * Pellet took 1.9558610916137695 seconds\n",
            "* Owlready * (NB: only changes on entities loaded in Python are shown, other changes are done but not listed)\n"
          ]
        }
      ]
    },
    {
      "cell_type": "code",
      "source": [
        "print(\"New Decision value:\",agent.takeDecision)\n",
        "print(\"___After the execution of this decision value___\")\n",
        "print(\"The first cell in which the agent moves:\",agent.FirstMovement)\n",
        "print(\"The second cell in which the agent moves:\",agent.SecondMovement)\n",
        "print(\"The third cell in which the agent moves:\",agent.ThirdMovement)\n",
        "print(\"isWon condition is:\",agent.isWon)\n",
        "print(\"Total Reward:\",agent.TotalGain)\n",
        "print(\"Total step count:\",agent.StepCount)\n",
        "\n",
        "\n",
        "\n"
      ],
      "metadata": {
        "colab": {
          "base_uri": "https://localhost:8080/"
        },
        "id": "3PfhSz4VDa1R",
        "outputId": "7828beb4-4013-4ac1-e182-fe22831138c3"
      },
      "execution_count": 10,
      "outputs": [
        {
          "output_type": "stream",
          "name": "stdout",
          "text": [
            "New Decision value: [Ontology-ALCS.east]\n",
            "___After the execution of this decision value___\n",
            "The first cell in which the agent moves: [Ontology-ALCS.empty(5,4)]\n",
            "The second cell in which the agent moves: [Ontology-ALCS.empty(6,3)]\n",
            "The third cell in which the agent moves: [Ontology-ALCS.exit(6,2)]\n",
            "isWon condition is: [True]\n",
            "Total Reward: 1000\n",
            "Total step count: 3\n"
          ]
        }
      ]
    }
  ]
}