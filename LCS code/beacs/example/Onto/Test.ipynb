{
 "cells": [
  {
   "cell_type": "code",
   "execution_count": 1,
   "metadata": {},
   "outputs": [
    {
     "name": "stdout",
     "output_type": "stream",
     "text": [
      "Collecting owlready2\n",
      "  Using cached Owlready2-0.37.tar.gz (23.8 MB)\n",
      "Building wheels for collected packages: owlready2\n",
      "  Building wheel for owlready2 (setup.py): started\n",
      "  Building wheel for owlready2 (setup.py): finished with status 'done'\n",
      "  Created wheel for owlready2: filename=Owlready2-0.37-py3-none-any.whl size=19826925 sha256=a028cb8a2e6c795c412fb522ea47b955cfa43a5cfbf8868f4236fa3148b5bb2c\n",
      "  Stored in directory: c:\\users\\mahir\\appdata\\local\\pip\\cache\\wheels\\61\\f4\\ee\\b8e954771b3a0c58036218c5ab6b810f907297e456340fd112\n",
      "Successfully built owlready2\n",
      "Installing collected packages: owlready2\n",
      "Successfully installed owlready2-0.37\n"
     ]
    }
   ],
   "source": [
    "!pip install owlready2"
   ]
  },
  {
   "cell_type": "code",
   "execution_count": 2,
   "metadata": {},
   "outputs": [
    {
     "name": "stderr",
     "output_type": "stream",
     "text": [
      "* Owlready2 * Warning: optimized Cython parser module 'owlready2_optimized' is not available, defaulting to slower Python implementation\n"
     ]
    }
   ],
   "source": [
    "from owlready2 import *"
   ]
  },
  {
   "cell_type": "code",
   "execution_count": 3,
   "metadata": {},
   "outputs": [
    {
     "data": {
      "text/plain": [
       "get_ontology(\"http://www.semanticweb.org/mahir/ontologies/2022/3/Test2#\")"
      ]
     },
     "execution_count": 3,
     "metadata": {},
     "output_type": "execute_result"
    }
   ],
   "source": [
    "onto = get_ontology(\"ALCS-Ontology.owl\")\n",
    "onto.load()"
   ]
  },
  {
   "cell_type": "code",
   "execution_count": 4,
   "metadata": {},
   "outputs": [],
   "source": [
    "onto_path.append(\"ALCS-Ontology.owl\")"
   ]
  },
  {
   "cell_type": "code",
   "execution_count": 5,
   "metadata": {},
   "outputs": [
    {
     "name": "stderr",
     "output_type": "stream",
     "text": [
      "* Owlready2 * Warning: ignoring cyclic type of, involving storid 328\n",
      "\n"
     ]
    },
    {
     "data": {
      "text/plain": [
       "[ALCS-Ontology.Agent,\n",
       " ALCS-Ontology.Cells,\n",
       " ALCS-Ontology.Directions,\n",
       " ALCS-Ontology.Points,\n",
       " ALCS-Ontology.East,\n",
       " ALCS-Ontology.Empty,\n",
       " ALCS-Ontology.Exit,\n",
       " ALCS-Ontology.North,\n",
       " ALCS-Ontology.North-East,\n",
       " ALCS-Ontology.North-West,\n",
       " ALCS-Ontology.Obstacles,\n",
       " ALCS-Ontology.Penalty,\n",
       " ALCS-Ontology.Rewards,\n",
       " ALCS-Ontology.South,\n",
       " ALCS-Ontology.South-East,\n",
       " ALCS-Ontology.South-West,\n",
       " ALCS-Ontology.StartPoint,\n",
       " ALCS-Ontology.Walls,\n",
       " ALCS-Ontology.West]"
      ]
     },
     "execution_count": 5,
     "metadata": {},
     "output_type": "execute_result"
    }
   ],
   "source": [
    "list(onto.classes())"
   ]
  },
  {
   "cell_type": "code",
   "execution_count": 6,
   "metadata": {},
   "outputs": [],
   "source": [
    "with onto:\n",
    "    class Cells(Thing): pass\n",
    "    class hasX(Cells>>int, DataProperty, FunctionalProperty): pass\n",
    "    class hasY(Cells>>int, DataProperty, FunctionalProperty): pass\n",
    "\n",
    "    rule = Imp()\n",
    "    rule.set_as_rule(\"Cells(?c), hasX(?c,?x), add(?y,?x,1) -> hasY(?c,?y)\")"
   ]
  },
  {
   "cell_type": "code",
   "execution_count": 7,
   "metadata": {},
   "outputs": [],
   "source": [
    "cell = Cells(hasX = 2)"
   ]
  },
  {
   "cell_type": "code",
   "execution_count": 8,
   "metadata": {},
   "outputs": [
    {
     "name": "stderr",
     "output_type": "stream",
     "text": [
      "* Owlready2 * Running Pellet...\n",
      "    java -Xmx2000M -cp c:\\Users\\mahir\\anaconda3\\lib\\site-packages\\owlready2\\pellet\\antlr-3.2.jar;c:\\Users\\mahir\\anaconda3\\lib\\site-packages\\owlready2\\pellet\\antlr-runtime-3.2.jar;c:\\Users\\mahir\\anaconda3\\lib\\site-packages\\owlready2\\pellet\\aterm-java-1.6.jar;c:\\Users\\mahir\\anaconda3\\lib\\site-packages\\owlready2\\pellet\\commons-codec-1.6.jar;c:\\Users\\mahir\\anaconda3\\lib\\site-packages\\owlready2\\pellet\\httpclient-4.2.3.jar;c:\\Users\\mahir\\anaconda3\\lib\\site-packages\\owlready2\\pellet\\httpcore-4.2.2.jar;c:\\Users\\mahir\\anaconda3\\lib\\site-packages\\owlready2\\pellet\\jcl-over-slf4j-1.6.4.jar;c:\\Users\\mahir\\anaconda3\\lib\\site-packages\\owlready2\\pellet\\jena-arq-2.10.0.jar;c:\\Users\\mahir\\anaconda3\\lib\\site-packages\\owlready2\\pellet\\jena-core-2.10.0.jar;c:\\Users\\mahir\\anaconda3\\lib\\site-packages\\owlready2\\pellet\\jena-iri-0.9.5.jar;c:\\Users\\mahir\\anaconda3\\lib\\site-packages\\owlready2\\pellet\\jena-tdb-0.10.0.jar;c:\\Users\\mahir\\anaconda3\\lib\\site-packages\\owlready2\\pellet\\jgrapht-jdk1.5.jar;c:\\Users\\mahir\\anaconda3\\lib\\site-packages\\owlready2\\pellet\\log4j-1.2.16.jar;c:\\Users\\mahir\\anaconda3\\lib\\site-packages\\owlready2\\pellet\\owlapi-distribution-3.4.3-bin.jar;c:\\Users\\mahir\\anaconda3\\lib\\site-packages\\owlready2\\pellet\\pellet-2.3.1.jar;c:\\Users\\mahir\\anaconda3\\lib\\site-packages\\owlready2\\pellet\\slf4j-api-1.6.4.jar;c:\\Users\\mahir\\anaconda3\\lib\\site-packages\\owlready2\\pellet\\slf4j-log4j12-1.6.4.jar;c:\\Users\\mahir\\anaconda3\\lib\\site-packages\\owlready2\\pellet\\xercesImpl-2.10.0.jar;c:\\Users\\mahir\\anaconda3\\lib\\site-packages\\owlready2\\pellet\\xml-apis-1.4.01.jar pellet.Pellet realize --loader Jena --input-format N-Triples --infer-prop-values --infer-data-prop-values --ignore-imports C:\\Users\\mahir\\AppData\\Local\\Temp\\tmpat08aaru\n"
     ]
    },
    {
     "ename": "FileNotFoundError",
     "evalue": "[WinError 2] The system cannot find the file specified",
     "output_type": "error",
     "traceback": [
      "\u001b[1;31m---------------------------------------------------------------------------\u001b[0m",
      "\u001b[1;31mFileNotFoundError\u001b[0m                         Traceback (most recent call last)",
      "\u001b[1;32mc:\\Users\\mahir\\Desktop\\LCS code\\beacs\\example\\Onto\\Test.ipynb Cell 8'\u001b[0m in \u001b[0;36m<cell line: 1>\u001b[1;34m()\u001b[0m\n\u001b[1;32m----> <a href='vscode-notebook-cell:/c%3A/Users/mahir/Desktop/LCS%20code/beacs/example/Onto/Test.ipynb#ch0000007?line=0'>1</a>\u001b[0m sync_reasoner_pellet(infer_property_values\u001b[39m=\u001b[39;49m\u001b[39mTrue\u001b[39;49;00m,infer_data_property_values\u001b[39m=\u001b[39;49m\u001b[39mTrue\u001b[39;49;00m)\n",
      "File \u001b[1;32mc:\\Users\\mahir\\anaconda3\\lib\\site-packages\\owlready2\\reasoning.py:260\u001b[0m, in \u001b[0;36msync_reasoner_pellet\u001b[1;34m(x, infer_property_values, infer_data_property_values, debug, keep_tmp_file)\u001b[0m\n\u001b[0;32m    <a href='file:///c%3A/Users/mahir/anaconda3/lib/site-packages/owlready2/reasoning.py?line=256'>257</a>\u001b[0m   t0 \u001b[39m=\u001b[39m time\u001b[39m.\u001b[39mtime()\n\u001b[0;32m    <a href='file:///c%3A/Users/mahir/anaconda3/lib/site-packages/owlready2/reasoning.py?line=258'>259</a>\u001b[0m \u001b[39mtry\u001b[39;00m:\n\u001b[1;32m--> <a href='file:///c%3A/Users/mahir/anaconda3/lib/site-packages/owlready2/reasoning.py?line=259'>260</a>\u001b[0m   output \u001b[39m=\u001b[39m subprocess\u001b[39m.\u001b[39mrun(command, stdout \u001b[39m=\u001b[39m subprocess\u001b[39m.\u001b[39mPIPE, stderr \u001b[39m=\u001b[39m subprocess\u001b[39m.\u001b[39mPIPE, check \u001b[39m=\u001b[39m \u001b[39mTrue\u001b[39;00m, \u001b[39m*\u001b[39m\u001b[39m*\u001b[39m_subprocess_kargs)\u001b[39m.\u001b[39mstdout\n\u001b[0;32m    <a href='file:///c%3A/Users/mahir/anaconda3/lib/site-packages/owlready2/reasoning.py?line=260'>261</a>\u001b[0m \u001b[39mexcept\u001b[39;00m subprocess\u001b[39m.\u001b[39mCalledProcessError \u001b[39mas\u001b[39;00m e:\n\u001b[0;32m    <a href='file:///c%3A/Users/mahir/anaconda3/lib/site-packages/owlready2/reasoning.py?line=261'>262</a>\u001b[0m   \u001b[39mif\u001b[39;00m (e\u001b[39m.\u001b[39mreturncode \u001b[39m==\u001b[39m \u001b[39m1\u001b[39m) \u001b[39mand\u001b[39;00m (\u001b[39mb\u001b[39m\u001b[39m\"\u001b[39m\u001b[39mERROR: Ontology is inconsistent\u001b[39m\u001b[39m\"\u001b[39m \u001b[39min\u001b[39;00m (e\u001b[39m.\u001b[39mstderr \u001b[39mor\u001b[39;00m \u001b[39mb\u001b[39m\u001b[39m\"\u001b[39m\u001b[39m\"\u001b[39m)): \u001b[39m# XXX\u001b[39;00m\n",
      "File \u001b[1;32mc:\\Users\\mahir\\anaconda3\\lib\\subprocess.py:505\u001b[0m, in \u001b[0;36mrun\u001b[1;34m(input, capture_output, timeout, check, *popenargs, **kwargs)\u001b[0m\n\u001b[0;32m    <a href='file:///c%3A/Users/mahir/anaconda3/lib/subprocess.py?line=501'>502</a>\u001b[0m     kwargs[\u001b[39m'\u001b[39m\u001b[39mstdout\u001b[39m\u001b[39m'\u001b[39m] \u001b[39m=\u001b[39m PIPE\n\u001b[0;32m    <a href='file:///c%3A/Users/mahir/anaconda3/lib/subprocess.py?line=502'>503</a>\u001b[0m     kwargs[\u001b[39m'\u001b[39m\u001b[39mstderr\u001b[39m\u001b[39m'\u001b[39m] \u001b[39m=\u001b[39m PIPE\n\u001b[1;32m--> <a href='file:///c%3A/Users/mahir/anaconda3/lib/subprocess.py?line=504'>505</a>\u001b[0m \u001b[39mwith\u001b[39;00m Popen(\u001b[39m*\u001b[39mpopenargs, \u001b[39m*\u001b[39m\u001b[39m*\u001b[39mkwargs) \u001b[39mas\u001b[39;00m process:\n\u001b[0;32m    <a href='file:///c%3A/Users/mahir/anaconda3/lib/subprocess.py?line=505'>506</a>\u001b[0m     \u001b[39mtry\u001b[39;00m:\n\u001b[0;32m    <a href='file:///c%3A/Users/mahir/anaconda3/lib/subprocess.py?line=506'>507</a>\u001b[0m         stdout, stderr \u001b[39m=\u001b[39m process\u001b[39m.\u001b[39mcommunicate(\u001b[39minput\u001b[39m, timeout\u001b[39m=\u001b[39mtimeout)\n",
      "File \u001b[1;32mc:\\Users\\mahir\\anaconda3\\lib\\subprocess.py:951\u001b[0m, in \u001b[0;36mPopen.__init__\u001b[1;34m(self, args, bufsize, executable, stdin, stdout, stderr, preexec_fn, close_fds, shell, cwd, env, universal_newlines, startupinfo, creationflags, restore_signals, start_new_session, pass_fds, user, group, extra_groups, encoding, errors, text, umask)\u001b[0m\n\u001b[0;32m    <a href='file:///c%3A/Users/mahir/anaconda3/lib/subprocess.py?line=946'>947</a>\u001b[0m         \u001b[39mif\u001b[39;00m \u001b[39mself\u001b[39m\u001b[39m.\u001b[39mtext_mode:\n\u001b[0;32m    <a href='file:///c%3A/Users/mahir/anaconda3/lib/subprocess.py?line=947'>948</a>\u001b[0m             \u001b[39mself\u001b[39m\u001b[39m.\u001b[39mstderr \u001b[39m=\u001b[39m io\u001b[39m.\u001b[39mTextIOWrapper(\u001b[39mself\u001b[39m\u001b[39m.\u001b[39mstderr,\n\u001b[0;32m    <a href='file:///c%3A/Users/mahir/anaconda3/lib/subprocess.py?line=948'>949</a>\u001b[0m                     encoding\u001b[39m=\u001b[39mencoding, errors\u001b[39m=\u001b[39merrors)\n\u001b[1;32m--> <a href='file:///c%3A/Users/mahir/anaconda3/lib/subprocess.py?line=950'>951</a>\u001b[0m     \u001b[39mself\u001b[39;49m\u001b[39m.\u001b[39;49m_execute_child(args, executable, preexec_fn, close_fds,\n\u001b[0;32m    <a href='file:///c%3A/Users/mahir/anaconda3/lib/subprocess.py?line=951'>952</a>\u001b[0m                         pass_fds, cwd, env,\n\u001b[0;32m    <a href='file:///c%3A/Users/mahir/anaconda3/lib/subprocess.py?line=952'>953</a>\u001b[0m                         startupinfo, creationflags, shell,\n\u001b[0;32m    <a href='file:///c%3A/Users/mahir/anaconda3/lib/subprocess.py?line=953'>954</a>\u001b[0m                         p2cread, p2cwrite,\n\u001b[0;32m    <a href='file:///c%3A/Users/mahir/anaconda3/lib/subprocess.py?line=954'>955</a>\u001b[0m                         c2pread, c2pwrite,\n\u001b[0;32m    <a href='file:///c%3A/Users/mahir/anaconda3/lib/subprocess.py?line=955'>956</a>\u001b[0m                         errread, errwrite,\n\u001b[0;32m    <a href='file:///c%3A/Users/mahir/anaconda3/lib/subprocess.py?line=956'>957</a>\u001b[0m                         restore_signals,\n\u001b[0;32m    <a href='file:///c%3A/Users/mahir/anaconda3/lib/subprocess.py?line=957'>958</a>\u001b[0m                         gid, gids, uid, umask,\n\u001b[0;32m    <a href='file:///c%3A/Users/mahir/anaconda3/lib/subprocess.py?line=958'>959</a>\u001b[0m                         start_new_session)\n\u001b[0;32m    <a href='file:///c%3A/Users/mahir/anaconda3/lib/subprocess.py?line=959'>960</a>\u001b[0m \u001b[39mexcept\u001b[39;00m:\n\u001b[0;32m    <a href='file:///c%3A/Users/mahir/anaconda3/lib/subprocess.py?line=960'>961</a>\u001b[0m     \u001b[39m# Cleanup if the child failed starting.\u001b[39;00m\n\u001b[0;32m    <a href='file:///c%3A/Users/mahir/anaconda3/lib/subprocess.py?line=961'>962</a>\u001b[0m     \u001b[39mfor\u001b[39;00m f \u001b[39min\u001b[39;00m \u001b[39mfilter\u001b[39m(\u001b[39mNone\u001b[39;00m, (\u001b[39mself\u001b[39m\u001b[39m.\u001b[39mstdin, \u001b[39mself\u001b[39m\u001b[39m.\u001b[39mstdout, \u001b[39mself\u001b[39m\u001b[39m.\u001b[39mstderr)):\n",
      "File \u001b[1;32mc:\\Users\\mahir\\anaconda3\\lib\\subprocess.py:1420\u001b[0m, in \u001b[0;36mPopen._execute_child\u001b[1;34m(self, args, executable, preexec_fn, close_fds, pass_fds, cwd, env, startupinfo, creationflags, shell, p2cread, p2cwrite, c2pread, c2pwrite, errread, errwrite, unused_restore_signals, unused_gid, unused_gids, unused_uid, unused_umask, unused_start_new_session)\u001b[0m\n\u001b[0;32m   <a href='file:///c%3A/Users/mahir/anaconda3/lib/subprocess.py?line=1417'>1418</a>\u001b[0m \u001b[39m# Start the process\u001b[39;00m\n\u001b[0;32m   <a href='file:///c%3A/Users/mahir/anaconda3/lib/subprocess.py?line=1418'>1419</a>\u001b[0m \u001b[39mtry\u001b[39;00m:\n\u001b[1;32m-> <a href='file:///c%3A/Users/mahir/anaconda3/lib/subprocess.py?line=1419'>1420</a>\u001b[0m     hp, ht, pid, tid \u001b[39m=\u001b[39m _winapi\u001b[39m.\u001b[39;49mCreateProcess(executable, args,\n\u001b[0;32m   <a href='file:///c%3A/Users/mahir/anaconda3/lib/subprocess.py?line=1420'>1421</a>\u001b[0m                              \u001b[39m# no special security\u001b[39;49;00m\n\u001b[0;32m   <a href='file:///c%3A/Users/mahir/anaconda3/lib/subprocess.py?line=1421'>1422</a>\u001b[0m                              \u001b[39mNone\u001b[39;49;00m, \u001b[39mNone\u001b[39;49;00m,\n\u001b[0;32m   <a href='file:///c%3A/Users/mahir/anaconda3/lib/subprocess.py?line=1422'>1423</a>\u001b[0m                              \u001b[39mint\u001b[39;49m(\u001b[39mnot\u001b[39;49;00m close_fds),\n\u001b[0;32m   <a href='file:///c%3A/Users/mahir/anaconda3/lib/subprocess.py?line=1423'>1424</a>\u001b[0m                              creationflags,\n\u001b[0;32m   <a href='file:///c%3A/Users/mahir/anaconda3/lib/subprocess.py?line=1424'>1425</a>\u001b[0m                              env,\n\u001b[0;32m   <a href='file:///c%3A/Users/mahir/anaconda3/lib/subprocess.py?line=1425'>1426</a>\u001b[0m                              cwd,\n\u001b[0;32m   <a href='file:///c%3A/Users/mahir/anaconda3/lib/subprocess.py?line=1426'>1427</a>\u001b[0m                              startupinfo)\n\u001b[0;32m   <a href='file:///c%3A/Users/mahir/anaconda3/lib/subprocess.py?line=1427'>1428</a>\u001b[0m \u001b[39mfinally\u001b[39;00m:\n\u001b[0;32m   <a href='file:///c%3A/Users/mahir/anaconda3/lib/subprocess.py?line=1428'>1429</a>\u001b[0m     \u001b[39m# Child is launched. Close the parent's copy of those pipe\u001b[39;00m\n\u001b[0;32m   <a href='file:///c%3A/Users/mahir/anaconda3/lib/subprocess.py?line=1429'>1430</a>\u001b[0m     \u001b[39m# handles that only the child should have open.  You need\u001b[39;00m\n\u001b[1;32m   (...)\u001b[0m\n\u001b[0;32m   <a href='file:///c%3A/Users/mahir/anaconda3/lib/subprocess.py?line=1432'>1433</a>\u001b[0m     \u001b[39m# pipe will not close when the child process exits and the\u001b[39;00m\n\u001b[0;32m   <a href='file:///c%3A/Users/mahir/anaconda3/lib/subprocess.py?line=1433'>1434</a>\u001b[0m     \u001b[39m# ReadFile will hang.\u001b[39;00m\n\u001b[0;32m   <a href='file:///c%3A/Users/mahir/anaconda3/lib/subprocess.py?line=1434'>1435</a>\u001b[0m     \u001b[39mself\u001b[39m\u001b[39m.\u001b[39m_close_pipe_fds(p2cread, p2cwrite,\n\u001b[0;32m   <a href='file:///c%3A/Users/mahir/anaconda3/lib/subprocess.py?line=1435'>1436</a>\u001b[0m                          c2pread, c2pwrite,\n\u001b[0;32m   <a href='file:///c%3A/Users/mahir/anaconda3/lib/subprocess.py?line=1436'>1437</a>\u001b[0m                          errread, errwrite)\n",
      "\u001b[1;31mFileNotFoundError\u001b[0m: [WinError 2] The system cannot find the file specified"
     ]
    }
   ],
   "source": [
    "sync_reasoner_pellet(infer_property_values=True,infer_data_property_values=True)"
   ]
  },
  {
   "cell_type": "code",
   "execution_count": 9,
   "metadata": {},
   "outputs": [],
   "source": [
    "with onto:\n",
    "    class Drug(Thing): pass\n",
    "    class number_of_tablets(Drug >> int, FunctionalProperty): pass\n",
    "    class price(Drug >> float, FunctionalProperty): pass\n",
    "    class price_per_tablet(Drug >> float, FunctionalProperty): pass\n",
    "\n",
    "    rule = Imp()\n",
    "    rule.set_as_rule(\"\"\"Drug(?d), price(?d, ?p), number_of_tablets(?d, ?n), divide(?r, ?p, ?n) -> price_per_tablet(?d, ?r)\"\"\")"
   ]
  },
  {
   "cell_type": "code",
   "execution_count": 10,
   "metadata": {},
   "outputs": [
    {
     "name": "stderr",
     "output_type": "stream",
     "text": [
      "* Owlready2 * Running Pellet...\n",
      "    java -Xmx2000M -cp c:\\Users\\mahir\\anaconda3\\lib\\site-packages\\owlready2\\pellet\\antlr-3.2.jar;c:\\Users\\mahir\\anaconda3\\lib\\site-packages\\owlready2\\pellet\\antlr-runtime-3.2.jar;c:\\Users\\mahir\\anaconda3\\lib\\site-packages\\owlready2\\pellet\\aterm-java-1.6.jar;c:\\Users\\mahir\\anaconda3\\lib\\site-packages\\owlready2\\pellet\\commons-codec-1.6.jar;c:\\Users\\mahir\\anaconda3\\lib\\site-packages\\owlready2\\pellet\\httpclient-4.2.3.jar;c:\\Users\\mahir\\anaconda3\\lib\\site-packages\\owlready2\\pellet\\httpcore-4.2.2.jar;c:\\Users\\mahir\\anaconda3\\lib\\site-packages\\owlready2\\pellet\\jcl-over-slf4j-1.6.4.jar;c:\\Users\\mahir\\anaconda3\\lib\\site-packages\\owlready2\\pellet\\jena-arq-2.10.0.jar;c:\\Users\\mahir\\anaconda3\\lib\\site-packages\\owlready2\\pellet\\jena-core-2.10.0.jar;c:\\Users\\mahir\\anaconda3\\lib\\site-packages\\owlready2\\pellet\\jena-iri-0.9.5.jar;c:\\Users\\mahir\\anaconda3\\lib\\site-packages\\owlready2\\pellet\\jena-tdb-0.10.0.jar;c:\\Users\\mahir\\anaconda3\\lib\\site-packages\\owlready2\\pellet\\jgrapht-jdk1.5.jar;c:\\Users\\mahir\\anaconda3\\lib\\site-packages\\owlready2\\pellet\\log4j-1.2.16.jar;c:\\Users\\mahir\\anaconda3\\lib\\site-packages\\owlready2\\pellet\\owlapi-distribution-3.4.3-bin.jar;c:\\Users\\mahir\\anaconda3\\lib\\site-packages\\owlready2\\pellet\\pellet-2.3.1.jar;c:\\Users\\mahir\\anaconda3\\lib\\site-packages\\owlready2\\pellet\\slf4j-api-1.6.4.jar;c:\\Users\\mahir\\anaconda3\\lib\\site-packages\\owlready2\\pellet\\slf4j-log4j12-1.6.4.jar;c:\\Users\\mahir\\anaconda3\\lib\\site-packages\\owlready2\\pellet\\xercesImpl-2.10.0.jar;c:\\Users\\mahir\\anaconda3\\lib\\site-packages\\owlready2\\pellet\\xml-apis-1.4.01.jar pellet.Pellet realize --loader Jena --input-format N-Triples --infer-prop-values --infer-data-prop-values --ignore-imports C:\\Users\\mahir\\AppData\\Local\\Temp\\tmpmw2b23ov\n"
     ]
    },
    {
     "ename": "FileNotFoundError",
     "evalue": "[WinError 2] The system cannot find the file specified",
     "output_type": "error",
     "traceback": [
      "\u001b[1;31m---------------------------------------------------------------------------\u001b[0m",
      "\u001b[1;31mFileNotFoundError\u001b[0m                         Traceback (most recent call last)",
      "\u001b[1;32mc:\\Users\\mahir\\Desktop\\LCS code\\beacs\\example\\Onto\\Test.ipynb Cell 10'\u001b[0m in \u001b[0;36m<cell line: 2>\u001b[1;34m()\u001b[0m\n\u001b[0;32m      <a href='vscode-notebook-cell:/c%3A/Users/mahir/Desktop/LCS%20code/beacs/example/Onto/Test.ipynb#ch0000009?line=0'>1</a>\u001b[0m drug \u001b[39m=\u001b[39m Drug(number_of_tablets \u001b[39m=\u001b[39m \u001b[39m10\u001b[39m, price \u001b[39m=\u001b[39m \u001b[39m25.0\u001b[39m)\n\u001b[1;32m----> <a href='vscode-notebook-cell:/c%3A/Users/mahir/Desktop/LCS%20code/beacs/example/Onto/Test.ipynb#ch0000009?line=1'>2</a>\u001b[0m sync_reasoner_pellet(infer_property_values \u001b[39m=\u001b[39;49m \u001b[39mTrue\u001b[39;49;00m, infer_data_property_values \u001b[39m=\u001b[39;49m \u001b[39mTrue\u001b[39;49;00m)\n\u001b[0;32m      <a href='vscode-notebook-cell:/c%3A/Users/mahir/Desktop/LCS%20code/beacs/example/Onto/Test.ipynb#ch0000009?line=2'>3</a>\u001b[0m drug\u001b[39m.\u001b[39mprice_per_tablet\n",
      "File \u001b[1;32mc:\\Users\\mahir\\anaconda3\\lib\\site-packages\\owlready2\\reasoning.py:260\u001b[0m, in \u001b[0;36msync_reasoner_pellet\u001b[1;34m(x, infer_property_values, infer_data_property_values, debug, keep_tmp_file)\u001b[0m\n\u001b[0;32m    <a href='file:///c%3A/Users/mahir/anaconda3/lib/site-packages/owlready2/reasoning.py?line=256'>257</a>\u001b[0m   t0 \u001b[39m=\u001b[39m time\u001b[39m.\u001b[39mtime()\n\u001b[0;32m    <a href='file:///c%3A/Users/mahir/anaconda3/lib/site-packages/owlready2/reasoning.py?line=258'>259</a>\u001b[0m \u001b[39mtry\u001b[39;00m:\n\u001b[1;32m--> <a href='file:///c%3A/Users/mahir/anaconda3/lib/site-packages/owlready2/reasoning.py?line=259'>260</a>\u001b[0m   output \u001b[39m=\u001b[39m subprocess\u001b[39m.\u001b[39mrun(command, stdout \u001b[39m=\u001b[39m subprocess\u001b[39m.\u001b[39mPIPE, stderr \u001b[39m=\u001b[39m subprocess\u001b[39m.\u001b[39mPIPE, check \u001b[39m=\u001b[39m \u001b[39mTrue\u001b[39;00m, \u001b[39m*\u001b[39m\u001b[39m*\u001b[39m_subprocess_kargs)\u001b[39m.\u001b[39mstdout\n\u001b[0;32m    <a href='file:///c%3A/Users/mahir/anaconda3/lib/site-packages/owlready2/reasoning.py?line=260'>261</a>\u001b[0m \u001b[39mexcept\u001b[39;00m subprocess\u001b[39m.\u001b[39mCalledProcessError \u001b[39mas\u001b[39;00m e:\n\u001b[0;32m    <a href='file:///c%3A/Users/mahir/anaconda3/lib/site-packages/owlready2/reasoning.py?line=261'>262</a>\u001b[0m   \u001b[39mif\u001b[39;00m (e\u001b[39m.\u001b[39mreturncode \u001b[39m==\u001b[39m \u001b[39m1\u001b[39m) \u001b[39mand\u001b[39;00m (\u001b[39mb\u001b[39m\u001b[39m\"\u001b[39m\u001b[39mERROR: Ontology is inconsistent\u001b[39m\u001b[39m\"\u001b[39m \u001b[39min\u001b[39;00m (e\u001b[39m.\u001b[39mstderr \u001b[39mor\u001b[39;00m \u001b[39mb\u001b[39m\u001b[39m\"\u001b[39m\u001b[39m\"\u001b[39m)): \u001b[39m# XXX\u001b[39;00m\n",
      "File \u001b[1;32mc:\\Users\\mahir\\anaconda3\\lib\\subprocess.py:505\u001b[0m, in \u001b[0;36mrun\u001b[1;34m(input, capture_output, timeout, check, *popenargs, **kwargs)\u001b[0m\n\u001b[0;32m    <a href='file:///c%3A/Users/mahir/anaconda3/lib/subprocess.py?line=501'>502</a>\u001b[0m     kwargs[\u001b[39m'\u001b[39m\u001b[39mstdout\u001b[39m\u001b[39m'\u001b[39m] \u001b[39m=\u001b[39m PIPE\n\u001b[0;32m    <a href='file:///c%3A/Users/mahir/anaconda3/lib/subprocess.py?line=502'>503</a>\u001b[0m     kwargs[\u001b[39m'\u001b[39m\u001b[39mstderr\u001b[39m\u001b[39m'\u001b[39m] \u001b[39m=\u001b[39m PIPE\n\u001b[1;32m--> <a href='file:///c%3A/Users/mahir/anaconda3/lib/subprocess.py?line=504'>505</a>\u001b[0m \u001b[39mwith\u001b[39;00m Popen(\u001b[39m*\u001b[39mpopenargs, \u001b[39m*\u001b[39m\u001b[39m*\u001b[39mkwargs) \u001b[39mas\u001b[39;00m process:\n\u001b[0;32m    <a href='file:///c%3A/Users/mahir/anaconda3/lib/subprocess.py?line=505'>506</a>\u001b[0m     \u001b[39mtry\u001b[39;00m:\n\u001b[0;32m    <a href='file:///c%3A/Users/mahir/anaconda3/lib/subprocess.py?line=506'>507</a>\u001b[0m         stdout, stderr \u001b[39m=\u001b[39m process\u001b[39m.\u001b[39mcommunicate(\u001b[39minput\u001b[39m, timeout\u001b[39m=\u001b[39mtimeout)\n",
      "File \u001b[1;32mc:\\Users\\mahir\\anaconda3\\lib\\subprocess.py:951\u001b[0m, in \u001b[0;36mPopen.__init__\u001b[1;34m(self, args, bufsize, executable, stdin, stdout, stderr, preexec_fn, close_fds, shell, cwd, env, universal_newlines, startupinfo, creationflags, restore_signals, start_new_session, pass_fds, user, group, extra_groups, encoding, errors, text, umask)\u001b[0m\n\u001b[0;32m    <a href='file:///c%3A/Users/mahir/anaconda3/lib/subprocess.py?line=946'>947</a>\u001b[0m         \u001b[39mif\u001b[39;00m \u001b[39mself\u001b[39m\u001b[39m.\u001b[39mtext_mode:\n\u001b[0;32m    <a href='file:///c%3A/Users/mahir/anaconda3/lib/subprocess.py?line=947'>948</a>\u001b[0m             \u001b[39mself\u001b[39m\u001b[39m.\u001b[39mstderr \u001b[39m=\u001b[39m io\u001b[39m.\u001b[39mTextIOWrapper(\u001b[39mself\u001b[39m\u001b[39m.\u001b[39mstderr,\n\u001b[0;32m    <a href='file:///c%3A/Users/mahir/anaconda3/lib/subprocess.py?line=948'>949</a>\u001b[0m                     encoding\u001b[39m=\u001b[39mencoding, errors\u001b[39m=\u001b[39merrors)\n\u001b[1;32m--> <a href='file:///c%3A/Users/mahir/anaconda3/lib/subprocess.py?line=950'>951</a>\u001b[0m     \u001b[39mself\u001b[39;49m\u001b[39m.\u001b[39;49m_execute_child(args, executable, preexec_fn, close_fds,\n\u001b[0;32m    <a href='file:///c%3A/Users/mahir/anaconda3/lib/subprocess.py?line=951'>952</a>\u001b[0m                         pass_fds, cwd, env,\n\u001b[0;32m    <a href='file:///c%3A/Users/mahir/anaconda3/lib/subprocess.py?line=952'>953</a>\u001b[0m                         startupinfo, creationflags, shell,\n\u001b[0;32m    <a href='file:///c%3A/Users/mahir/anaconda3/lib/subprocess.py?line=953'>954</a>\u001b[0m                         p2cread, p2cwrite,\n\u001b[0;32m    <a href='file:///c%3A/Users/mahir/anaconda3/lib/subprocess.py?line=954'>955</a>\u001b[0m                         c2pread, c2pwrite,\n\u001b[0;32m    <a href='file:///c%3A/Users/mahir/anaconda3/lib/subprocess.py?line=955'>956</a>\u001b[0m                         errread, errwrite,\n\u001b[0;32m    <a href='file:///c%3A/Users/mahir/anaconda3/lib/subprocess.py?line=956'>957</a>\u001b[0m                         restore_signals,\n\u001b[0;32m    <a href='file:///c%3A/Users/mahir/anaconda3/lib/subprocess.py?line=957'>958</a>\u001b[0m                         gid, gids, uid, umask,\n\u001b[0;32m    <a href='file:///c%3A/Users/mahir/anaconda3/lib/subprocess.py?line=958'>959</a>\u001b[0m                         start_new_session)\n\u001b[0;32m    <a href='file:///c%3A/Users/mahir/anaconda3/lib/subprocess.py?line=959'>960</a>\u001b[0m \u001b[39mexcept\u001b[39;00m:\n\u001b[0;32m    <a href='file:///c%3A/Users/mahir/anaconda3/lib/subprocess.py?line=960'>961</a>\u001b[0m     \u001b[39m# Cleanup if the child failed starting.\u001b[39;00m\n\u001b[0;32m    <a href='file:///c%3A/Users/mahir/anaconda3/lib/subprocess.py?line=961'>962</a>\u001b[0m     \u001b[39mfor\u001b[39;00m f \u001b[39min\u001b[39;00m \u001b[39mfilter\u001b[39m(\u001b[39mNone\u001b[39;00m, (\u001b[39mself\u001b[39m\u001b[39m.\u001b[39mstdin, \u001b[39mself\u001b[39m\u001b[39m.\u001b[39mstdout, \u001b[39mself\u001b[39m\u001b[39m.\u001b[39mstderr)):\n",
      "File \u001b[1;32mc:\\Users\\mahir\\anaconda3\\lib\\subprocess.py:1420\u001b[0m, in \u001b[0;36mPopen._execute_child\u001b[1;34m(self, args, executable, preexec_fn, close_fds, pass_fds, cwd, env, startupinfo, creationflags, shell, p2cread, p2cwrite, c2pread, c2pwrite, errread, errwrite, unused_restore_signals, unused_gid, unused_gids, unused_uid, unused_umask, unused_start_new_session)\u001b[0m\n\u001b[0;32m   <a href='file:///c%3A/Users/mahir/anaconda3/lib/subprocess.py?line=1417'>1418</a>\u001b[0m \u001b[39m# Start the process\u001b[39;00m\n\u001b[0;32m   <a href='file:///c%3A/Users/mahir/anaconda3/lib/subprocess.py?line=1418'>1419</a>\u001b[0m \u001b[39mtry\u001b[39;00m:\n\u001b[1;32m-> <a href='file:///c%3A/Users/mahir/anaconda3/lib/subprocess.py?line=1419'>1420</a>\u001b[0m     hp, ht, pid, tid \u001b[39m=\u001b[39m _winapi\u001b[39m.\u001b[39;49mCreateProcess(executable, args,\n\u001b[0;32m   <a href='file:///c%3A/Users/mahir/anaconda3/lib/subprocess.py?line=1420'>1421</a>\u001b[0m                              \u001b[39m# no special security\u001b[39;49;00m\n\u001b[0;32m   <a href='file:///c%3A/Users/mahir/anaconda3/lib/subprocess.py?line=1421'>1422</a>\u001b[0m                              \u001b[39mNone\u001b[39;49;00m, \u001b[39mNone\u001b[39;49;00m,\n\u001b[0;32m   <a href='file:///c%3A/Users/mahir/anaconda3/lib/subprocess.py?line=1422'>1423</a>\u001b[0m                              \u001b[39mint\u001b[39;49m(\u001b[39mnot\u001b[39;49;00m close_fds),\n\u001b[0;32m   <a href='file:///c%3A/Users/mahir/anaconda3/lib/subprocess.py?line=1423'>1424</a>\u001b[0m                              creationflags,\n\u001b[0;32m   <a href='file:///c%3A/Users/mahir/anaconda3/lib/subprocess.py?line=1424'>1425</a>\u001b[0m                              env,\n\u001b[0;32m   <a href='file:///c%3A/Users/mahir/anaconda3/lib/subprocess.py?line=1425'>1426</a>\u001b[0m                              cwd,\n\u001b[0;32m   <a href='file:///c%3A/Users/mahir/anaconda3/lib/subprocess.py?line=1426'>1427</a>\u001b[0m                              startupinfo)\n\u001b[0;32m   <a href='file:///c%3A/Users/mahir/anaconda3/lib/subprocess.py?line=1427'>1428</a>\u001b[0m \u001b[39mfinally\u001b[39;00m:\n\u001b[0;32m   <a href='file:///c%3A/Users/mahir/anaconda3/lib/subprocess.py?line=1428'>1429</a>\u001b[0m     \u001b[39m# Child is launched. Close the parent's copy of those pipe\u001b[39;00m\n\u001b[0;32m   <a href='file:///c%3A/Users/mahir/anaconda3/lib/subprocess.py?line=1429'>1430</a>\u001b[0m     \u001b[39m# handles that only the child should have open.  You need\u001b[39;00m\n\u001b[1;32m   (...)\u001b[0m\n\u001b[0;32m   <a href='file:///c%3A/Users/mahir/anaconda3/lib/subprocess.py?line=1432'>1433</a>\u001b[0m     \u001b[39m# pipe will not close when the child process exits and the\u001b[39;00m\n\u001b[0;32m   <a href='file:///c%3A/Users/mahir/anaconda3/lib/subprocess.py?line=1433'>1434</a>\u001b[0m     \u001b[39m# ReadFile will hang.\u001b[39;00m\n\u001b[0;32m   <a href='file:///c%3A/Users/mahir/anaconda3/lib/subprocess.py?line=1434'>1435</a>\u001b[0m     \u001b[39mself\u001b[39m\u001b[39m.\u001b[39m_close_pipe_fds(p2cread, p2cwrite,\n\u001b[0;32m   <a href='file:///c%3A/Users/mahir/anaconda3/lib/subprocess.py?line=1435'>1436</a>\u001b[0m                          c2pread, c2pwrite,\n\u001b[0;32m   <a href='file:///c%3A/Users/mahir/anaconda3/lib/subprocess.py?line=1436'>1437</a>\u001b[0m                          errread, errwrite)\n",
      "\u001b[1;31mFileNotFoundError\u001b[0m: [WinError 2] The system cannot find the file specified"
     ]
    }
   ],
   "source": [
    "drug = Drug(number_of_tablets = 10, price = 25.0)\n",
    "sync_reasoner_pellet(infer_property_values = True, infer_data_property_values = True)\n",
    "drug.price_per_tablet\n"
   ]
  },
  {
   "cell_type": "code",
   "execution_count": 11,
   "metadata": {},
   "outputs": [
    {
     "ename": "AttributeError",
     "evalue": "module 'owlready2' has no attribute '__version__'",
     "output_type": "error",
     "traceback": [
      "\u001b[1;31m---------------------------------------------------------------------------\u001b[0m",
      "\u001b[1;31mAttributeError\u001b[0m                            Traceback (most recent call last)",
      "\u001b[1;32mc:\\Users\\mahir\\Desktop\\LCS code\\beacs\\example\\Onto\\Test.ipynb Cell 11'\u001b[0m in \u001b[0;36m<cell line: 2>\u001b[1;34m()\u001b[0m\n\u001b[0;32m      <a href='vscode-notebook-cell:/c%3A/Users/mahir/Desktop/LCS%20code/beacs/example/Onto/Test.ipynb#ch0000010?line=0'>1</a>\u001b[0m \u001b[39mimport\u001b[39;00m \u001b[39mowlready2\u001b[39;00m\n\u001b[1;32m----> <a href='vscode-notebook-cell:/c%3A/Users/mahir/Desktop/LCS%20code/beacs/example/Onto/Test.ipynb#ch0000010?line=1'>2</a>\u001b[0m \u001b[39mprint\u001b[39m(owlready2\u001b[39m.\u001b[39;49m__version__)\n",
      "\u001b[1;31mAttributeError\u001b[0m: module 'owlready2' has no attribute '__version__'"
     ]
    }
   ],
   "source": [
    "import owlready2\n",
    "print(owlready2.__version__)"
   ]
  }
 ],
 "metadata": {
  "interpreter": {
   "hash": "51cb763750b86f6b8ce54c7f3d54133f44b9263c925dbeab921e0588b0318c3c"
  },
  "kernelspec": {
   "display_name": "Python 3.8.5 ('base')",
   "language": "python",
   "name": "python3"
  },
  "language_info": {
   "codemirror_mode": {
    "name": "ipython",
    "version": 3
   },
   "file_extension": ".py",
   "mimetype": "text/x-python",
   "name": "python",
   "nbconvert_exporter": "python",
   "pygments_lexer": "ipython3",
   "version": "3.9.12"
  },
  "orig_nbformat": 4
 },
 "nbformat": 4,
 "nbformat_minor": 2
}
